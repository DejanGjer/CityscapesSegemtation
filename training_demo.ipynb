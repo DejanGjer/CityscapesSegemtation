{
 "cells": [
  {
   "cell_type": "code",
   "execution_count": 2,
   "metadata": {},
   "outputs": [
    {
     "name": "stdout",
     "output_type": "stream",
     "text": [
      "Train dataset:\n",
      "[{'image': <PIL.PngImagePlugin.PngImageFile image mode=RGB size=2048x1024 at 0x7F25477E6A50>, 'semantic_segmentation': <PIL.PngImagePlugin.PngImageFile image mode=RGB size=2048x1024 at 0x7F2547756590>}, {'image': <PIL.PngImagePlugin.PngImageFile image mode=RGB size=2048x1024 at 0x7F254750F710>, 'semantic_segmentation': <PIL.PngImagePlugin.PngImageFile image mode=RGB size=2048x1024 at 0x7F254750F8D0>}, {'image': <PIL.PngImagePlugin.PngImageFile image mode=RGB size=2048x1024 at 0x7F254750FB10>, 'semantic_segmentation': <PIL.PngImagePlugin.PngImageFile image mode=RGB size=2048x1024 at 0x7F254750FC50>}, {'image': <PIL.PngImagePlugin.PngImageFile image mode=RGB size=2048x1024 at 0x7F254750FE10>, 'semantic_segmentation': <PIL.PngImagePlugin.PngImageFile image mode=RGB size=2048x1024 at 0x7F2547528050>}, {'image': <PIL.PngImagePlugin.PngImageFile image mode=RGB size=2048x1024 at 0x7F2547528290>, 'semantic_segmentation': <PIL.PngImagePlugin.PngImageFile image mode=RGB size=2048x1024 at 0x7F25475283D0>}]\n",
      "Validation dataset:\n",
      "[{'image': <PIL.PngImagePlugin.PngImageFile image mode=RGB size=2048x1024 at 0x7F254CB85590>, 'semantic_segmentation': <PIL.PngImagePlugin.PngImageFile image mode=RGB size=2048x1024 at 0x7F254CBDF610>}, {'image': <PIL.PngImagePlugin.PngImageFile image mode=RGB size=2048x1024 at 0x7F254CBDF890>, 'semantic_segmentation': <PIL.PngImagePlugin.PngImageFile image mode=RGB size=2048x1024 at 0x7F254CBE4210>}]\n",
      "Test dataset:\n",
      "[{'image': <PIL.PngImagePlugin.PngImageFile image mode=RGB size=2048x1024 at 0x7F2547532D50>, 'semantic_segmentation': <PIL.PngImagePlugin.PngImageFile image mode=RGB size=2048x1024 at 0x7F2547532E50>}, {'image': <PIL.PngImagePlugin.PngImageFile image mode=RGB size=2048x1024 at 0x7F2547533FD0>, 'semantic_segmentation': <PIL.PngImagePlugin.PngImageFile image mode=RGB size=2048x1024 at 0x7F2547538110>}]\n"
     ]
    }
   ],
   "source": [
    "from datasets import load_dataset\n",
    "\n",
    "seed = 42\n",
    "train_sample_size = 5\n",
    "validation_sample_size = 2\n",
    "test_sample_size = 2\n",
    "\n",
    "ds = load_dataset(\"Chris1/cityscapes\", streaming=True)\n",
    "train_ds = ds[\"train\"].shuffle(seed=seed).take(train_sample_size)\n",
    "validation_ds = ds[\"validation\"].shuffle(seed=seed).take(validation_sample_size)\n",
    "test_ds = ds[\"test\"].shuffle(seed=seed).take(test_sample_size)\n",
    "\n",
    "print(\"Train dataset:\")\n",
    "print(list(train_ds))\n",
    "print(\"Validation dataset:\")\n",
    "print(list(validation_ds))\n",
    "print(\"Test dataset:\")\n",
    "print(list(test_ds))"
   ]
  },
  {
   "cell_type": "code",
   "execution_count": 3,
   "metadata": {},
   "outputs": [
    {
     "name": "stdout",
     "output_type": "stream",
     "text": [
      "{'unlabeled': 0, 'ego vehicle': 1, 'rectification border': 2, 'out of roi': 3, 'static': 4, 'dynamic': 5, 'ground': 6, 'road': 7, 'sidewalk': 8, 'parking': 9, 'rail track': 10, 'building': 11, 'wall': 12, 'fence': 13, 'guard rail': 14, 'bridge': 15, 'tunnel': 16, 'pole': 17, 'polegroup': 18, 'traffic light': 19, 'traffic sign': 20, 'vegetation': 21, 'terrain': 22, 'sky': 23, 'person': 24, 'rider': 25, 'car': 26, 'truck': 27, 'bus': 28, 'caravan': 29, 'trailer': 30, 'train': 31, 'motorcycle': 32, 'bicycle': 33, 'license plate': -1}\n",
      "{0: 'unlabeled', 1: 'ego vehicle', 2: 'rectification border', 3: 'out of roi', 4: 'static', 5: 'dynamic', 6: 'ground', 7: 'road', 8: 'sidewalk', 9: 'parking', 10: 'rail track', 11: 'building', 12: 'wall', 13: 'fence', 14: 'guard rail', 15: 'bridge', 16: 'tunnel', 17: 'pole', 18: 'polegroup', 19: 'traffic light', 20: 'traffic sign', 21: 'vegetation', 22: 'terrain', 23: 'sky', 24: 'person', 25: 'rider', 26: 'car', 27: 'truck', 28: 'bus', 29: 'caravan', 30: 'trailer', 31: 'train', 32: 'motorcycle', 33: 'bicycle', -1: 'license plate'}\n"
     ]
    }
   ],
   "source": [
    "from labels import labels, Label\n",
    "\n",
    "# create lebel2id and id2label dictionaries\n",
    "label2id = {label.name: label.id for label in labels}\n",
    "id2label = {label.id: label.name for label in labels}\n",
    "print(label2id)\n",
    "print(id2label)"
   ]
  },
  {
   "cell_type": "code",
   "execution_count": 4,
   "metadata": {},
   "outputs": [
    {
     "name": "stderr",
     "output_type": "stream",
     "text": [
      "Downloading (…)rocessor_config.json: 100%|██████████| 272/272 [00:00<00:00, 1.43MB/s]\n",
      "Could not find image processor class in the image processor config or the model config. Loading based on pattern matching with the model's feature extractor configuration.\n",
      "/home/dejang/anaconda3/envs/transformers/lib/python3.11/site-packages/transformers/models/segformer/image_processing_segformer.py:99: FutureWarning: The `reduce_labels` parameter is deprecated and will be removed in a future version. Please use `do_reduce_labels` instead.\n",
      "  warnings.warn(\n"
     ]
    }
   ],
   "source": [
    "from transformers import AutoImageProcessor\n",
    "\n",
    "checkpoint = \"nvidia/mit-b0\"\n",
    "image_processor = AutoImageProcessor.from_pretrained(checkpoint, reduce_labels=True)"
   ]
  },
  {
   "cell_type": "code",
   "execution_count": 6,
   "metadata": {},
   "outputs": [],
   "source": [
    "from torchvision.transforms import ColorJitter\n",
    "\n",
    "jitter = ColorJitter(brightness=0.25, contrast=0.25, saturation=0.25, hue=0.1)\n",
    "\n",
    "def train_transforms(example):\n",
    "    image = jitter(example[\"image\"])\n",
    "    label = example[\"semantic_segmentation\"]\n",
    "    return image_processor(image, label)\n",
    "\n",
    "\n",
    "def val_transforms(example):\n",
    "    image = example[\"image\"]\n",
    "    label = example[\"semantic_segmentation\"]\n",
    "    return image_processor(image, label)\n",
    "\n",
    "train_ds = train_ds.map(train_transforms)\n",
    "validation_ds = validation_ds.map(val_transforms)\n"
   ]
  },
  {
   "cell_type": "code",
   "execution_count": 7,
   "metadata": {},
   "outputs": [
    {
     "name": "stdout",
     "output_type": "stream",
     "text": [
      "<PIL.PngImagePlugin.PngImageFile image mode=RGB size=2048x1024 at 0x7F251E8A4790>\n",
      "<PIL.PngImagePlugin.PngImageFile image mode=RGB size=2048x1024 at 0x7F251E8A4950>\n"
     ]
    }
   ],
   "source": [
    "train_example = next(iter(train_ds))\n",
    "image = train_example[\"image\"]\n",
    "target = train_example[\"semantic_segmentation\"]\n",
    "\n",
    "print(image)\n",
    "print(target)"
   ]
  },
  {
   "cell_type": "code",
   "execution_count": null,
   "metadata": {},
   "outputs": [],
   "source": [
    "import matplotlib.pyplot as plt\n",
    "import numpy as np\n",
    "\n",
    "plt.imshow(np.swapaxes(np.swapaxes(pixels, 0, 2), 0, 1))"
   ]
  },
  {
   "cell_type": "code",
   "execution_count": null,
   "metadata": {},
   "outputs": [],
   "source": [
    "import evaluate\n",
    "import numpy as np\n",
    "import torch\n",
    "from torch import nn\n",
    "\n",
    "metric = evaluate.load(\"mean_iou\")\n",
    "\n",
    "def compute_metrics(eval_pred):\n",
    "    with torch.no_grad():\n",
    "        logits, labels = eval_pred\n",
    "        logits_tensor = torch.from_numpy(logits)\n",
    "        logits_tensor = nn.functional.interpolate(\n",
    "            logits_tensor,\n",
    "            size=labels.shape[-2:],\n",
    "            mode=\"bilinear\",\n",
    "            align_corners=False,\n",
    "        ).argmax(dim=1)\n",
    "\n",
    "        pred_labels = logits_tensor.detach().cpu().numpy()\n",
    "        metrics = metric.compute(\n",
    "            predictions=pred_labels,\n",
    "            references=labels,\n",
    "            num_labels=num_labels,\n",
    "            ignore_index=255,\n",
    "            reduce_labels=False,\n",
    "        )\n",
    "        for key, value in metrics.items():\n",
    "            if type(value) is np.ndarray:\n",
    "                metrics[key] = value.tolist()\n",
    "        return metrics"
   ]
  },
  {
   "cell_type": "code",
   "execution_count": null,
   "metadata": {},
   "outputs": [],
   "source": [
    "from transformers import AutoModelForSemanticSegmentation, TrainingArguments, Trainer\n",
    "\n",
    "model = AutoModelForSemanticSegmentation.from_pretrained(checkpoint, id2label=id2label, label2id=label2id)"
   ]
  },
  {
   "cell_type": "code",
   "execution_count": null,
   "metadata": {},
   "outputs": [],
   "source": [
    "training_args = TrainingArguments(\n",
    "    output_dir=\"segformer-b0-scene-parse-150\",\n",
    "    learning_rate=6e-5,\n",
    "    num_train_epochs=50,\n",
    "    per_device_train_batch_size=2,\n",
    "    per_device_eval_batch_size=2,\n",
    "    save_total_limit=3,\n",
    "    evaluation_strategy=\"steps\",\n",
    "    save_strategy=\"steps\",\n",
    "    save_steps=20,\n",
    "    eval_steps=20,\n",
    "    logging_steps=1,\n",
    "    eval_accumulation_steps=5,\n",
    "    remove_unused_columns=False,\n",
    ")\n",
    "\n",
    "trainer = Trainer(\n",
    "    model=model,\n",
    "    args=training_args,\n",
    "    train_dataset=train_ds,\n",
    "    eval_dataset=test_ds,\n",
    "    compute_metrics=compute_metrics,\n",
    ")\n",
    "\n",
    "trainer.train()"
   ]
  }
 ],
 "metadata": {
  "kernelspec": {
   "display_name": "transformers",
   "language": "python",
   "name": "python3"
  },
  "language_info": {
   "codemirror_mode": {
    "name": "ipython",
    "version": 3
   },
   "file_extension": ".py",
   "mimetype": "text/x-python",
   "name": "python",
   "nbconvert_exporter": "python",
   "pygments_lexer": "ipython3",
   "version": "3.11.3"
  },
  "orig_nbformat": 4
 },
 "nbformat": 4,
 "nbformat_minor": 2
}
